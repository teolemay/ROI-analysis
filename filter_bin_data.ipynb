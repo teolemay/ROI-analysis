{
 "cells": [
  {
   "cell_type": "markdown",
   "source": [
    "# Data Filtering and Binning\n",
    "\n",
    "This notebook lets you filter and bin tabular data from ISS and INO images.\n",
    "\n",
    "For best results, run cells from the top down."
   ],
   "metadata": {}
  },
  {
   "cell_type": "code",
   "execution_count": null,
   "source": [
    "# Run this cell to import required python packages \r\n",
    "# no additions are needed here. You may skip to the next cell after running this one.\r\n",
    "import pandas as pd\r\n",
    "import matplotlib.pyplot as plt\r\n",
    "import scipy.optimize as opt\r\n",
    "from ROI_functions_images.fluorescence_functions import data_binning, filter_df\r\n",
    "import json"
   ],
   "outputs": [],
   "metadata": {
    "tags": [
     "hide-input"
    ]
   }
  },
  {
   "cell_type": "markdown",
   "source": [
    "# File Loading\n",
    "\n",
    "Load and view tabular data from CSV file."
   ],
   "metadata": {}
  },
  {
   "cell_type": "code",
   "execution_count": null,
   "source": [
    "#Run this cell to load csv file: \r\n",
    "file = r'path\\file.csv'     #replace path\\file.csv with full path to csv file , keeping the quotation marks.\r\n",
    "df = pd.read_csv(file)"
   ],
   "outputs": [],
   "metadata": {
    "scrolled": true
   }
  },
  {
   "cell_type": "code",
   "execution_count": null,
   "source": [
    "# Run this cell to get a description of the csv file's data\r\n",
    "df.describe()"
   ],
   "outputs": [],
   "metadata": {}
  },
  {
   "cell_type": "code",
   "execution_count": null,
   "source": [
    "# Run this cell to plot raw data\r\n",
    "\r\n",
    "# change the entries below to df[\"title of desired column\"] to change plot values\r\n",
    "x_data = df[\"Acceptor_intensity\"] / df[\"Donor_intensity\"]\r\n",
    "y_data = df[\"FRET_efficiency\"]\r\n",
    "\r\n",
    "# change the entries below to edit plot labels/title\r\n",
    "title = 'Donor Fluorophore lifetime vs. A/D Ratio'\r\n",
    "x_label = 'A/D Ratio'\r\n",
    "y_label = 'Donor Lifetime (s)'\r\n",
    "\r\n",
    "\r\n",
    "plt.figure()\r\n",
    "plt.plot(x_data, y_data, 'o')\r\n",
    "plt.xlabel(x_label)\r\n",
    "plt.ylabel(y_label)\r\n",
    "plt.title(title)\r\n",
    "plt.show()"
   ],
   "outputs": [],
   "metadata": {}
  },
  {
   "cell_type": "markdown",
   "source": [
    "# Data Filtering\n",
    "Raw data usually needs to be filtered before it can be used productively. \n",
    "\n",
    "Filter parameters to consider may include: \n",
    "- ROI size\n",
    "- donor lifetime\n",
    "- mean donor intensity\n",
    "- acceptor to donor ratio\n",
    "- FRET efficiency\n",
    "- etc\n",
    "\n",
    "Filter operations exclusively include:\n",
    "- \\> (use \"gt\")\n",
    "- \\< (use \"lt\")\n",
    "- \\>= (use \"ge\")\n",
    "- \\<= (use \"le\")\n",
    "- == (use \"ee\")\n",
    "\n",
    "N.B. The filtered dataframe is called subdf as opposed to df."
   ],
   "metadata": {}
  },
  {
   "cell_type": "code",
   "execution_count": null,
   "source": [
    "# Run this cell to save filter parameters \r\n",
    "# replace None below with the desired filter parameter\r\n",
    "#   ex: to select only ROIs with more than 10 pixels -> replace None after 'ROI_size' with \"gt10\" \r\n",
    "#   N.B. filter parameters must be surrounded by either single or double quotation marks and all \r\n",
    "#        operators must be written using provided abbreviations.\r\n",
    "\r\n",
    "ISS_filter_params = {\r\n",
    "    'ROI_size':None,\r\n",
    "    'Donor_T0_intensity':None,\r\n",
    "    'Acceptor_T0_intensity':None,\r\n",
    "    'Donor_intensity':None,\r\n",
    "    'Acceptor_intensity':None,\r\n",
    "    'Acceptor/Donor_ratio':None,\r\n",
    "    'Donor_lifetime':None,\r\n",
    "    'Phasor_G':None,\r\n",
    "    'Phasor_S':None,\r\n",
    "    'FRET_efficiency':None\r\n",
    "}\r\n",
    "\r\n",
    "INO_filter_params = {\r\n",
    "    'Well_ID':None,    #Well_ID only supports == (\"ee\") operations\r\n",
    "    'ROI_size':None,\r\n",
    "    'T0_intensity':None,\r\n",
    "    'Donor_intensity':None,\r\n",
    "    'Acceptor_intensity':None,    \r\n",
    "    'Spectral_Range1_intensity':None,\r\n",
    "    'Spectral_Range2_intensity':None,\r\n",
    "    'Spectral_Range3_intensity':None,\r\n",
    "    'Acceptor/Donor_ratio':None,\r\n",
    "    'Donor_lifetime':None,\r\n",
    "    'Phasor_G':None,\r\n",
    "    'Phasor_S':None,\r\n",
    "    'FRET_efficiency':None\r\n",
    "}"
   ],
   "outputs": [],
   "metadata": {}
  },
  {
   "cell_type": "code",
   "execution_count": null,
   "source": [
    "# Run this cell to apply saved filter parameters above to the dataframe.\r\n",
    "\r\n",
    "#change **ISS_filter_parameters to **INO_filter_parameters if working with data from an INO image.\r\n",
    "subdf = filter_df(df, **ISS_filter_params)  "
   ],
   "outputs": [],
   "metadata": {}
  },
  {
   "cell_type": "code",
   "execution_count": null,
   "source": [
    "# Run this cell to plot filtered data\r\n",
    "\r\n",
    "# change the entries below to subdf[\"title of desired column\"] to change plot data\r\n",
    "x_data = subdf[\"Acceptor_intensity\"] / subdf[\"Donor_intensity\"]\r\n",
    "y_data = subdf[\"FRET_efficiency\"]\r\n",
    "\r\n",
    "# change the entries below to edit plot labels/title\r\n",
    "title = 'FRET efficiency vs. A/D Ratio'\r\n",
    "xlabel = 'A/D Ratio'\r\n",
    "ylabel = 'FRET Efficiency (%)'\r\n",
    "\r\n",
    "plt.figure()\r\n",
    "plt.plot(x_data, y_data, 'o')\r\n",
    "plt.xlabel(xlabel)\r\n",
    "plt.ylabel(ylabel)\r\n",
    "plt.title(title)\r\n",
    "plt.show()"
   ],
   "outputs": [],
   "metadata": {}
  },
  {
   "cell_type": "markdown",
   "source": [
    "# Binning\n",
    "\n",
    "Bin the filtered data and calculate mean, median, standard deviation, and standard error.\n",
    "\n",
    "Bins can be automatically or manually generated."
   ],
   "metadata": {}
  },
  {
   "cell_type": "code",
   "execution_count": null,
   "source": [
    "# Run this cell to save custom bin edges\r\n",
    "\r\n",
    "# Fill the list below with desired bin edges\r\n",
    "#    :ex x_axis_bins = [-0.5, 0.5, 1.5, 2.5, 3.5, 4.5]  will produce 5 bins of width 1, centered at 0, 1, 2, 3, 4\r\n",
    "\r\n",
    "x_axis_bins = [ ]"
   ],
   "outputs": [],
   "metadata": {}
  },
  {
   "cell_type": "code",
   "execution_count": null,
   "source": [
    "# Run this cell to bin selected data\r\n",
    "\r\n",
    "# Change the entries below to set what gets binned.\r\n",
    "x_data = subdf[\"Acceptor_intensity\"] / subdf[\"Donor_intensity\"]\r\n",
    "y_data = subdf[\"FRET_efficiency\"]\r\n",
    "auto_bins = True                      # if True: bins will be set automatically.\r\n",
    "custom_bins = x_axis_bins             # auto_bins must be set to False to use custom bins\r\n",
    "\r\n",
    "#change the value of csv_name to save binned data to the desired location\r\n",
    "csv_name = r'ROI_binned_data.csv'\r\n",
    "\r\n",
    "\r\n",
    "bin_size, y_means, y_medians, y_std_devs, y_std_errs, x_bin_centers, x_means = data_binning(x_data, y_data, auto_bins=auto_bins, bin_edges=custom_bins)\r\n",
    "\r\n",
    "bindf = pd.DataFrame({\r\n",
    "    'bin_size':bin_size,\r\n",
    "    'y_means':y_means,\r\n",
    "    'y_medians':y_medians,\r\n",
    "    'y_std_devs':y_std_devs,\r\n",
    "    'y_std_errs':y_std_errs,\r\n",
    "    'x_bin_centers':x_bin_centers,\r\n",
    "    'x_means':x_means\r\n",
    "})\r\n",
    "bindf.to_csv(csv_name)\r\n",
    "bindf"
   ],
   "outputs": [],
   "metadata": {}
  },
  {
   "cell_type": "markdown",
   "source": [
    "# Curve Fitting\n",
    "\n",
    "Curve fitting can be applied to binned data.\n",
    "\n",
    "The default curve to be fitted is:\n",
    "\n",
    "$$E\\% =\\frac{[Emax * (I_{acceptor}/I_{donor})^h}{Kd^h + (I_{acceptor}/I_{donor})^h} $$\n",
    "\n",
    "since $I_{acceptor}/I_{donor}$ is just the acceptor to donor ratio, the equation is:\n",
    "\n",
    "$$E\\% =\\frac{[Emax * (A:D)^h}{Kd^h + (A:D)^h} $$"
   ],
   "metadata": {}
  },
  {
   "cell_type": "code",
   "execution_count": null,
   "source": [
    "# Run this cell to calculate curve parameters\r\n",
    "\r\n",
    "#this line removes bins with only 1 or fewer values\r\n",
    "bindf = bindf[bindf['bin_size'] > 1]\r\n",
    "\r\n",
    "# Change the entries below to set data for curve fit\r\n",
    "x_vals = bindf['x_means']\r\n",
    "y_vals = bindf['y_means']\r\n",
    "y_errs = bindf['y_std_devs']\r\n",
    "\r\n",
    "\r\n",
    "def model_function(ratio, Emax, Kd, h):\r\n",
    "    return (Emax * ratio**h)/(Kd**h + ratio**h)\r\n",
    "\r\n",
    "popt, pcov = opt.curve_fit(model_function, x_vals, y_vals, sigma=y_errs, maxfev=200000)\r\n",
    "\r\n",
    "print('Emax:', popt[0])\r\n",
    "print('Kd:', popt[1])\r\n",
    "print('h:', popt[2])"
   ],
   "outputs": [],
   "metadata": {}
  },
  {
   "cell_type": "code",
   "execution_count": null,
   "source": [
    "# Run this cell to plot bins and curve fit\r\n",
    "\r\n",
    "# Change entries below below to change plot data\r\n",
    "x_vals = bindf['x_means']\r\n",
    "y_vals = bindf['y_means']\r\n",
    "y_errs = bindf['y_std_devs']\r\n",
    "\r\n",
    "# Change the entries below to edit plot labels/titles\r\n",
    "x_label = 'A/D ratio'\r\n",
    "y_label = 'FRET efficiency'\r\n",
    "title = 'FRET efficiency vs A/D ratio'\r\n",
    "\r\n",
    "\r\n",
    "plt.figure()\r\n",
    "plt.errorbar(x_vals, y_vals, yerr=y_errs, fmt='ko', capsize=5, capthick=1)\r\n",
    "plt.plot(x_vals, model_function(x_vals, popt[0], popt[1], popt[2]))\r\n",
    "plt.xlabel(x_label)\r\n",
    "plt.ylabel(y_label)\r\n",
    "plt.title(title)\r\n",
    "plt.show()"
   ],
   "outputs": [],
   "metadata": {}
  },
  {
   "cell_type": "markdown",
   "source": [
    "# Save Configuration\r\n",
    "\r\n",
    "Save the current filtering and binning parameters into a json file to batch process other csv files."
   ],
   "metadata": {}
  },
  {
   "cell_type": "code",
   "execution_count": null,
   "source": [
    "# Run this cell to save parameters as .json file\r\n",
    "\r\n",
    "# Change ISS_filter_params for INO_filter_params if working with INO files\r\n",
    "filter_bin_params = ISS_filter_params\r\n",
    "\r\n",
    "# The parameters below will use the values saved above for automatic or custom binning.\r\n",
    "filter_bin_params['auto_bins'] = auto_bins\r\n",
    "filter_bin_params['x_axis_bins'] = x_axis_bins\r\n",
    "\r\n",
    "# Change the text in quotation marks to set a custom name for your json file.\r\n",
    "#    N.B. the file name must end with .json\r\n",
    "file_name = 'filter_and_bin_params.json'\r\n",
    "\r\n",
    "\r\n",
    "with open(file_name, 'w') as newfile:\r\n",
    "    json.dump(filter_bin_params, newfile, indent=4)"
   ],
   "outputs": [],
   "metadata": {}
  }
 ],
 "metadata": {
  "celltoolbar": "Edit Metadata",
  "interpreter": {
   "hash": "98bb89d7f91e8e0ee991cc74f61a1b9e86f16a1e0e08792dcc34fb456761421a"
  },
  "kernelspec": {
   "name": "python3",
   "display_name": "Python 3.9.6 64-bit ('roiAnalysis': conda)"
  },
  "language_info": {
   "codemirror_mode": {
    "name": "ipython",
    "version": 3
   },
   "file_extension": ".py",
   "mimetype": "text/x-python",
   "name": "python",
   "nbconvert_exporter": "python",
   "pygments_lexer": "ipython3",
   "version": "3.9.6"
  }
 },
 "nbformat": 4,
 "nbformat_minor": 2
}
